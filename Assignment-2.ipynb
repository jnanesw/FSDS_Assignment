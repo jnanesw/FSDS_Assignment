{
 "cells": [
  {
   "cell_type": "markdown",
   "id": "ce0d5693",
   "metadata": {},
   "source": [
    "1.What are the two values of the Boolean data type? How do you write them?"
   ]
  },
  {
   "cell_type": "markdown",
   "id": "affd1618",
   "metadata": {},
   "source": [
    "### Answer :\n",
    "true and false .We can write it as 'True' and 'False'"
   ]
  },
  {
   "cell_type": "code",
   "execution_count": null,
   "id": "4b9cf9dd",
   "metadata": {},
   "outputs": [],
   "source": []
  },
  {
   "cell_type": "markdown",
   "id": "c2b1b502",
   "metadata": {},
   "source": [
    "2.What are the three different types of Boolean operators?"
   ]
  },
  {
   "cell_type": "markdown",
   "id": "fd22c8d6",
   "metadata": {},
   "source": [
    "### Answer :\n",
    "AND, OR, and NOT are the three basic boolean operators."
   ]
  },
  {
   "cell_type": "code",
   "execution_count": null,
   "id": "97e7315f",
   "metadata": {},
   "outputs": [],
   "source": []
  },
  {
   "cell_type": "markdown",
   "id": "489389ab",
   "metadata": {},
   "source": [
    "3.Make a list of each Boolean operator&'s truth tables (i.e. every possible combination of Boolean\n",
    "values for the operator and what it evaluate )."
   ]
  },
  {
   "cell_type": "markdown",
   "id": "295fda94",
   "metadata": {},
   "source": [
    "### Answer :\n"
   ]
  },
  {
   "cell_type": "code",
   "execution_count": null,
   "id": "edd65bb0",
   "metadata": {},
   "outputs": [],
   "source": [
    "list1=[True,False,True,False]\n",
    "list2=[False,True,True,True]\n",
    "list3=list1 and list2\n",
    "list4= list1 or list2\n",
    "list5=list1 is not list2\n",
    "print('Using AND operator :', list3)\n",
    "print('Using OR  operator :', list4)\n",
    "print('Using NOT operator :', list5)"
   ]
  },
  {
   "cell_type": "markdown",
   "id": "4e2d0982",
   "metadata": {},
   "source": [
    "AND : -\n",
    "----\n",
    "True and True is True\n",
    "\n",
    "True and False is False\n",
    "\n",
    "False and True is False\n",
    "\n",
    "False and False is False\n",
    "\n",
    "\n",
    "OR :-\n",
    "-----\n",
    "True or True is True\n",
    "\n",
    "True or False is True\n",
    "\n",
    "False or True is True\n",
    "\n",
    "False or False is False\n",
    "\n",
    "\n",
    "NOT :-\n",
    "----\n",
    "not True is False\n",
    "\n",
    "not False is True"
   ]
  },
  {
   "cell_type": "code",
   "execution_count": null,
   "id": "1ba4ff52",
   "metadata": {},
   "outputs": [],
   "source": []
  },
  {
   "cell_type": "markdown",
   "id": "78d17fe6",
   "metadata": {},
   "source": [
    "4.What are the values of the following expressions?"
   ]
  },
  {
   "cell_type": "markdown",
   "id": "8565a0a7",
   "metadata": {},
   "source": [
    "### Answer : \n",
    "(5 > 4) and (3 == 5)      ==> False  (5>4 is true and 3==5 is false)\n",
    "\n",
    "   not (5> 4)             ==> False \n",
    "\n",
    "(5 > 4) or (3 == 5)       ==> True ( 5>4 is true or 3==5 is false)\n",
    "\n",
    "not ((5 > 4) or (3 == 5)) ==>False \n",
    "\n",
    "(True and True) and (True == False)  ==> False (True AND False = False)\n",
    "\n",
    "(not False) or (not True) ==> True "
   ]
  },
  {
   "cell_type": "code",
   "execution_count": null,
   "id": "b6a540f3",
   "metadata": {},
   "outputs": [],
   "source": []
  },
  {
   "cell_type": "markdown",
   "id": "410ef21d",
   "metadata": {},
   "source": [
    "5.What are the six comparison operators?"
   ]
  },
  {
   "cell_type": "markdown",
   "id": "c561ad85",
   "metadata": {},
   "source": [
    "### Answer :\n",
    "1) >\n",
    "\n",
    "2) <\n",
    "\n",
    "3) >=\n",
    "\n",
    "4) <=\n",
    "\n",
    "5) !=\n",
    "\n",
    "6) =="
   ]
  },
  {
   "cell_type": "code",
   "execution_count": null,
   "id": "6f90229c",
   "metadata": {},
   "outputs": [],
   "source": []
  },
  {
   "cell_type": "markdown",
   "id": "03715fb2",
   "metadata": {},
   "source": [
    "6.How do you tell the difference between the equal to and assignment operators?Describe a\n",
    "condition and when you would use one."
   ]
  },
  {
   "cell_type": "markdown",
   "id": "7d195d0c",
   "metadata": {},
   "source": [
    "### Answer : \n",
    "\n",
    "Equal to(==) : It that checks equal to condition satisfies for given numbers.\n",
    "\n",
    "for example consider two integers a and b then if we say a==b it means it checks the values of a and b are same or not.\n",
    "\n",
    "Assignment operator : It is useful to assigns values to a variable"
   ]
  },
  {
   "cell_type": "code",
   "execution_count": null,
   "id": "5bad015b",
   "metadata": {},
   "outputs": [],
   "source": []
  },
  {
   "cell_type": "markdown",
   "id": "72473d48",
   "metadata": {},
   "source": [
    "7.Identify the three blocks in this code:\n",
    "    \n",
    "spam = 0\n",
    "\n",
    "if spam == 10:\n",
    "    \n",
    "    print('eggs')\n",
    "    \n",
    "if spam > 5:\n",
    "    \n",
    "    print('bacon')\n",
    "    \n",
    "else:\n",
    "    \n",
    "    print('ham')\n",
    "    \n",
    "    print('spam')\n",
    "    \n",
    "    print('spam')"
   ]
  },
  {
   "cell_type": "markdown",
   "id": "8f55f397",
   "metadata": {},
   "source": [
    "### Answer :\n",
    "if spam is equal to 10 then it will prints string eggs.\n",
    "\n",
    "or\n",
    "\n",
    "if spam is greater than 5 then it will print string bacon\n",
    "\n",
    "or\n",
    "\n",
    "it will print ham ans spam two times."
   ]
  },
  {
   "cell_type": "code",
   "execution_count": null,
   "id": "3639ea0b",
   "metadata": {},
   "outputs": [],
   "source": []
  },
  {
   "cell_type": "markdown",
   "id": "4fa6a11f",
   "metadata": {},
   "source": [
    "8.Write code that prints Hello if 1 is stored in spam, prints Howdy if 2 is stored in spam, and prints\n",
    "Greetings! if anything else is stored in spam."
   ]
  },
  {
   "cell_type": "markdown",
   "id": "aeeafadd",
   "metadata": {},
   "source": [
    "### Answer :"
   ]
  },
  {
   "cell_type": "code",
   "execution_count": null,
   "id": "fed84795",
   "metadata": {},
   "outputs": [],
   "source": [
    "if spam==1:\n",
    "    print('Hello')\n",
    "elif spam==2:\n",
    "    print('Howdy')\n",
    "else:\n",
    "    print('Greetings!')"
   ]
  },
  {
   "cell_type": "code",
   "execution_count": null,
   "id": "f64fad24",
   "metadata": {},
   "outputs": [],
   "source": []
  },
  {
   "cell_type": "markdown",
   "id": "e5a5ac05",
   "metadata": {},
   "source": [
    "9.If your programme is stuck in an endless loop, what keys you’ll press?"
   ]
  },
  {
   "cell_type": "markdown",
   "id": "573b91be",
   "metadata": {},
   "source": [
    "### Answer :\n",
    " If programm stucks in a loop then press `CTRL+C` it will terminate loop\n",
    " \n",
    " In jupyter notebook we have to click on `interrupt kernel`"
   ]
  },
  {
   "cell_type": "code",
   "execution_count": null,
   "id": "6a238b18",
   "metadata": {},
   "outputs": [],
   "source": []
  },
  {
   "cell_type": "markdown",
   "id": "3dfeeebc",
   "metadata": {},
   "source": [
    "10. How can you tell the difference between break and continue?"
   ]
  },
  {
   "cell_type": "markdown",
   "id": "6c772016",
   "metadata": {},
   "source": [
    "### Answer :\n",
    "\n",
    "Specifically we use Break and continue in a loop.\n",
    "\n",
    "Break : -\n",
    "    \n",
    "   In a loop Break statement is encountered when the given condition is true then it terminates the loop.\n",
    "\n",
    "Continue :- \n",
    "\n",
    "   In Continue it doesn't terminate loop but it just skips to next value without any effect or without printing the current.\n",
    "    \n",
    "   or\n",
    "    \n",
    "   The continue statement will move the execution to the start of the loop."
   ]
  },
  {
   "cell_type": "code",
   "execution_count": null,
   "id": "260a608a",
   "metadata": {},
   "outputs": [],
   "source": []
  },
  {
   "cell_type": "markdown",
   "id": "4dbbc7cc",
   "metadata": {},
   "source": [
    "11. In a for loop, what is the difference between range(10), range(0, 10), and range(0, 10, 1)?"
   ]
  },
  {
   "cell_type": "markdown",
   "id": "d439882b",
   "metadata": {},
   "source": [
    "### Answer :\n",
    "range(10) and range(0,10) and range(0,10,1) three are same Coz By default range function starts from 0 and step value is 1 .\n"
   ]
  },
  {
   "cell_type": "code",
   "execution_count": null,
   "id": "69f4b0c3",
   "metadata": {},
   "outputs": [],
   "source": []
  },
  {
   "cell_type": "markdown",
   "id": "d97afd15",
   "metadata": {},
   "source": [
    "12.Write a short program that prints the numbers 1 to 10 using a for loop. Then write an equivalent\n",
    "program that prints the numbers 1 to 10 using a while loop."
   ]
  },
  {
   "cell_type": "markdown",
   "id": "d450c36b",
   "metadata": {},
   "source": [
    "### Answer:"
   ]
  },
  {
   "cell_type": "code",
   "execution_count": null,
   "id": "520fa017",
   "metadata": {},
   "outputs": [],
   "source": [
    "# Using for loop\n",
    "\n",
    "for i in range(1,11):\n",
    "    print(i)"
   ]
  },
  {
   "cell_type": "code",
   "execution_count": null,
   "id": "7fdac27c",
   "metadata": {},
   "outputs": [],
   "source": [
    "# Using while loop\n",
    "a=1\n",
    "while(a<11):\n",
    "    print(a)\n",
    "    a+=1\n",
    "    \n",
    "    'or'\n",
    "    \n",
    "'''while(a!=11):\n",
    "    print(a)\n",
    "    a=a+1'''"
   ]
  },
  {
   "cell_type": "code",
   "execution_count": null,
   "id": "5f921304",
   "metadata": {},
   "outputs": [],
   "source": []
  },
  {
   "cell_type": "markdown",
   "id": "4e28850d",
   "metadata": {},
   "source": [
    "13.If you had a function named bacon() inside a module named spam, how would you call it after\n",
    "importing spam?"
   ]
  },
  {
   "cell_type": "markdown",
   "id": "c50c21ed",
   "metadata": {},
   "source": [
    "### Answer :\n",
    "import spam as sp\n",
    "\n",
    "sp.bacon()\n",
    "\n",
    "or\n",
    "\n",
    "import spam\n",
    "\n",
    "spam.bacon()"
   ]
  },
  {
   "cell_type": "code",
   "execution_count": null,
   "id": "19f4e70a",
   "metadata": {},
   "outputs": [],
   "source": []
  }
 ],
 "metadata": {
  "kernelspec": {
   "display_name": "Python 3",
   "language": "python",
   "name": "python3"
  },
  "language_info": {
   "codemirror_mode": {
    "name": "ipython",
    "version": 3
   },
   "file_extension": ".py",
   "mimetype": "text/x-python",
   "name": "python",
   "nbconvert_exporter": "python",
   "pygments_lexer": "ipython3",
   "version": "3.8.8"
  }
 },
 "nbformat": 4,
 "nbformat_minor": 5
}
