{
 "cells": [
  {
   "cell_type": "markdown",
   "id": "cc41924f",
   "metadata": {},
   "source": [
    "# Q.No : 1. In the below elements which of them are values or an expression? \n",
    "### *\n",
    "### 'Hello'\n",
    "### -87.8\n",
    "### -\n",
    "### /\n",
    "### +\n",
    "### 6"
   ]
  },
  {
   "cell_type": "markdown",
   "id": "f745e470",
   "metadata": {},
   "source": [
    "### ANSWER"
   ]
  },
  {
   "cell_type": "markdown",
   "id": "8d8cfd67",
   "metadata": {},
   "source": [
    "' * '     --> is Multiplication Operator\n",
    " \n",
    "'Hello' --> is string (which is intitated between in a Single Quotations or in Double Quotations is a String)\n",
    "\n",
    "-87.8   --> is inter value\n",
    "\n",
    "'  -  '   --> is Subtraction Operator\n",
    "  \n",
    "'  / '    --> is Division Operator(Whose Output is in Float values)\n",
    "  \n",
    "'  +  '   --> is Addition Operator\n",
    "  \n",
    "  6     --> is an Integer"
   ]
  },
  {
   "cell_type": "code",
   "execution_count": null,
   "id": "8f1e863b",
   "metadata": {},
   "outputs": [],
   "source": []
  },
  {
   "cell_type": "markdown",
   "id": "80e4036b",
   "metadata": {},
   "source": [
    "# 2. What is the difference between string and variable?"
   ]
  },
  {
   "cell_type": "markdown",
   "id": "937d50bb",
   "metadata": {},
   "source": [
    "String :-\n",
    "---------\n",
    "    ==> A string is a set of or collection of Characters. (or) If we assign anything in between Single or double Quotations   then it is a String.\n",
    "       \n",
    "Variable : -\n",
    "------------\n",
    "    ==> A Variable is used to store values of any data type.\n",
    "    ==> Variables created by Alphabets , Under score( _ ) , But not with Special characters and numbers."
   ]
  },
  {
   "cell_type": "code",
   "execution_count": null,
   "id": "c3717225",
   "metadata": {},
   "outputs": [],
   "source": []
  },
  {
   "cell_type": "markdown",
   "id": "987f4fbe",
   "metadata": {},
   "source": [
    "# 3. Describe three different data types."
   ]
  },
  {
   "cell_type": "markdown",
   "id": "4514904f",
   "metadata": {},
   "source": [
    " Floating Point :-\n",
    "----------------------\n",
    "      ==> Floating Point data type is used for storing decimal values. Keyword used for floating point data type is float.\n",
    "\n",
    "List :-\n",
    "-------\n",
    "     ==> Lists are Similar to arrays which are in c and c++.\n",
    "     ==> Lists can store values of different data types by seperating with commas and enclosed by square brackets.\n",
    "     ==> We can easily able to access values in Lists by using indexes.\n",
    "     ==> Lists are mutable means we are able to modify the values.\n",
    "  \n",
    "Tuple :-\n",
    "--------\n",
    "     ==> Tuple is another sequence data type that is similar to the list.\n",
    "     ==> But Tuples are immutable.\n",
    "     ==> Tuples are enclosed with Round Brackets or paranthesis.\n",
    "     ==> We also use square brackets in tuples when slicing the tuple."
   ]
  },
  {
   "cell_type": "code",
   "execution_count": null,
   "id": "23721f6a",
   "metadata": {},
   "outputs": [],
   "source": []
  },
  {
   "cell_type": "markdown",
   "id": "9222030f",
   "metadata": {},
   "source": [
    "# 4. What is an expression made up of? What do all expressions do?"
   ]
  },
  {
   "cell_type": "markdown",
   "id": "a4d11083",
   "metadata": {},
   "source": [
    "==> An expression is a made up by combination of values, variables, and operators. \n",
    "\n",
    "==> All expressions evaluate to a single value as output."
   ]
  },
  {
   "cell_type": "code",
   "execution_count": null,
   "id": "7994749b",
   "metadata": {},
   "outputs": [],
   "source": []
  },
  {
   "cell_type": "markdown",
   "id": "572e16bb",
   "metadata": {},
   "source": [
    "# 5. This assignment statements, like spam = 10. What is the difference between an expression and a statement?"
   ]
  },
  {
   "cell_type": "markdown",
   "id": "4398ba92",
   "metadata": {},
   "source": [
    "Statement :-\n",
    "----------------\n",
    "        ==> A statement is an instruction that a Python interpreter can execute.\n",
    "        ==> so, \"spam = 10\" is an assign statement. And spam is a variable and 10 is a value.\n",
    "    \n",
    "Expression :-\n",
    "----------------\n",
    "       ==> An expression is a combination of values, variables, and operators.\n",
    "       ==> A single value all by itself is considered an expression."
   ]
  },
  {
   "cell_type": "markdown",
   "id": "d6e388b9",
   "metadata": {},
   "source": [
    "# 6.After running the following code, what does the variable bacon contain?\n",
    "## bacon = 22\n",
    "## bacon + 1"
   ]
  },
  {
   "cell_type": "markdown",
   "id": "2bbd9106",
   "metadata": {},
   "source": [
    "### ANSWER"
   ]
  },
  {
   "cell_type": "markdown",
   "id": "9e158136",
   "metadata": {},
   "source": [
    "==>Value of bacon Variable is 22 ,because here incrementing of bacon Variable is done but incremented value not assigned to    bacon Variable.\n",
    "\n",
    "==>if  'bacon=bacon+1' , Then the Value is 23."
   ]
  },
  {
   "cell_type": "code",
   "execution_count": null,
   "id": "23d793f8",
   "metadata": {},
   "outputs": [],
   "source": []
  },
  {
   "cell_type": "markdown",
   "id": "5548a499",
   "metadata": {},
   "source": [
    "# 7. What should the values of the following two terms be?\n",
    "### 'spam' + 'spamspam'\n",
    "### 'spam' * 3"
   ]
  },
  {
   "cell_type": "markdown",
   "id": "d750fdaa",
   "metadata": {},
   "source": [
    "### ANSWER"
   ]
  },
  {
   "cell_type": "markdown",
   "id": "7d93a44a",
   "metadata": {},
   "source": [
    "'spam'+'spamspam' ==> spamspamspam\n",
    "\n",
    "'spam'*3  ==> spamspamspam"
   ]
  },
  {
   "cell_type": "code",
   "execution_count": null,
   "id": "8c22026e",
   "metadata": {},
   "outputs": [],
   "source": []
  },
  {
   "cell_type": "markdown",
   "id": "9b9a008d",
   "metadata": {},
   "source": [
    "# 8. Why is eggs a valid variable name while 100 is invalid?"
   ]
  },
  {
   "cell_type": "markdown",
   "id": "7a4f9fd4",
   "metadata": {},
   "source": [
    "==> Yes, eggs is a valid variable while 100 is not Because, 100 is a integer Data Type so 100 is not valid.\n",
    "\n",
    "==> we cannot start a variable name with integer as well as with special characters.\n",
    "\n",
    "==> If we want a variable with integers then we can create like this for example valid100 , v_100 etc...."
   ]
  },
  {
   "cell_type": "code",
   "execution_count": null,
   "id": "45fa5072",
   "metadata": {},
   "outputs": [],
   "source": []
  },
  {
   "cell_type": "markdown",
   "id": "452869c3",
   "metadata": {},
   "source": [
    "# 9. What three functions can be used to get the integer, floating-point number, or string version of a value?"
   ]
  },
  {
   "cell_type": "markdown",
   "id": "7643e93f",
   "metadata": {},
   "source": [
    "# int() , float() , str() \n",
    "\n",
    "==> Using these three pre-defined functions we can change data type of a value.\n",
    "==> It is also called as Type Casting."
   ]
  },
  {
   "cell_type": "code",
   "execution_count": null,
   "id": "a5350203",
   "metadata": {},
   "outputs": [],
   "source": []
  },
  {
   "cell_type": "markdown",
   "id": "d0943176",
   "metadata": {},
   "source": [
    "# 10. Why does this expression cause an error? How can you fix it?\n",
    "# 'I have eaten' + 99 + ' burritos.'"
   ]
  },
  {
   "cell_type": "markdown",
   "id": "97cb7814",
   "metadata": {},
   "source": [
    "==> The reason to get an error by doing above operation is we cannot add a string data type and a integer data type.\n",
    "\n",
    "==> it raises type error.\n",
    "\n",
    "==> we can fix it in two ways \n",
    "\n",
    "        (i) Type Casting the integer value to string using \"str()\" function\n",
    "        \n",
    "        (ii)By simply putting single or double quotations to the integer value"
   ]
  },
  {
   "cell_type": "code",
   "execution_count": null,
   "id": "2edb5041",
   "metadata": {},
   "outputs": [],
   "source": [
    "'I have eaten' + str(99) + 'burritos'\n",
    "\n",
    "'I have eaten' + '99' + 'burritos'"
   ]
  }
 ],
 "metadata": {
  "kernelspec": {
   "display_name": "Python 3",
   "language": "python",
   "name": "python3"
  },
  "language_info": {
   "codemirror_mode": {
    "name": "ipython",
    "version": 3
   },
   "file_extension": ".py",
   "mimetype": "text/x-python",
   "name": "python",
   "nbconvert_exporter": "python",
   "pygments_lexer": "ipython3",
   "version": "3.8.8"
  }
 },
 "nbformat": 4,
 "nbformat_minor": 5
}
