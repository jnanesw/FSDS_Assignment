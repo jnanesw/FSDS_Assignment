{
 "cells": [
  {
   "cell_type": "markdown",
   "id": "4c01169a",
   "metadata": {},
   "source": [
    "# 1. Write a Python program to print \"Hello Python\""
   ]
  },
  {
   "cell_type": "code",
   "execution_count": null,
   "id": "e11d2457",
   "metadata": {},
   "outputs": [],
   "source": [
    "print(\"Hello Python\")"
   ]
  },
  {
   "cell_type": "code",
   "execution_count": null,
   "id": "0ff8511f",
   "metadata": {},
   "outputs": [],
   "source": []
  },
  {
   "cell_type": "markdown",
   "id": "b429952d",
   "metadata": {},
   "source": [
    "# 2. Write a Python program to do arithmetical operations addition and division.?"
   ]
  },
  {
   "cell_type": "code",
   "execution_count": null,
   "id": "986c2c7a",
   "metadata": {},
   "outputs": [],
   "source": [
    "def add(a,b):\n",
    "    return a+b\n",
    "\n",
    "def Div(a,b):\n",
    "    return a/b"
   ]
  },
  {
   "cell_type": "code",
   "execution_count": null,
   "id": "650699db",
   "metadata": {},
   "outputs": [],
   "source": [
    "x=int(input())\n",
    "y=int(input())"
   ]
  },
  {
   "cell_type": "code",
   "execution_count": null,
   "id": "57519400",
   "metadata": {},
   "outputs": [],
   "source": [
    "add(x,y)"
   ]
  },
  {
   "cell_type": "code",
   "execution_count": null,
   "id": "e46fae15",
   "metadata": {},
   "outputs": [],
   "source": [
    "Div(x,y)"
   ]
  },
  {
   "cell_type": "markdown",
   "id": "0ba98f28",
   "metadata": {},
   "source": [
    "# 3. Write a Python program to find the area of a triangle?"
   ]
  },
  {
   "cell_type": "code",
   "execution_count": null,
   "id": "69b87bc4",
   "metadata": {},
   "outputs": [],
   "source": [
    "def Area(b,h):\n",
    "    return (b*h)/2"
   ]
  },
  {
   "cell_type": "code",
   "execution_count": null,
   "id": "5d26a8fc",
   "metadata": {},
   "outputs": [],
   "source": [
    "base=int(input())\n",
    "height=int(input())"
   ]
  },
  {
   "cell_type": "code",
   "execution_count": null,
   "id": "d1f05610",
   "metadata": {},
   "outputs": [],
   "source": [
    "Area(base,height)"
   ]
  },
  {
   "cell_type": "code",
   "execution_count": null,
   "id": "c25144eb",
   "metadata": {},
   "outputs": [],
   "source": []
  },
  {
   "cell_type": "markdown",
   "id": "43666a5f",
   "metadata": {},
   "source": [
    "# 4. Write a Python program to swap two variables?"
   ]
  },
  {
   "cell_type": "code",
   "execution_count": 1,
   "id": "66df9ed1",
   "metadata": {},
   "outputs": [
    {
     "name": "stdout",
     "output_type": "stream",
     "text": [
      "a : 20  b : 10\n"
     ]
    }
   ],
   "source": [
    "# Method-1\n",
    "a=10\n",
    "b=20\n",
    "a,b=b,a\n",
    "print(\"a :\" ,a ,\" b :\", b)"
   ]
  },
  {
   "cell_type": "code",
   "execution_count": 2,
   "id": "f5b0cf60",
   "metadata": {},
   "outputs": [
    {
     "name": "stdout",
     "output_type": "stream",
     "text": [
      "a : 10  b : 20\n"
     ]
    }
   ],
   "source": [
    "# Method-2\n",
    "temp=a\n",
    "a=b\n",
    "b=temp\n",
    "print(\"a :\" ,a ,\" b :\", b)"
   ]
  },
  {
   "cell_type": "code",
   "execution_count": null,
   "id": "993d2a77",
   "metadata": {},
   "outputs": [],
   "source": []
  },
  {
   "cell_type": "markdown",
   "id": "73038fb2",
   "metadata": {},
   "source": [
    "# 5. Write a Python program to generate a random number?"
   ]
  },
  {
   "cell_type": "code",
   "execution_count": 20,
   "id": "6b436ca8",
   "metadata": {},
   "outputs": [],
   "source": [
    "import random\n",
    "\n",
    "# From Given input\n",
    "\n",
    "def generate_random_num(n):\n",
    "    return random.randint(0,n)"
   ]
  },
  {
   "cell_type": "code",
   "execution_count": 18,
   "id": "d4850a96",
   "metadata": {},
   "outputs": [
    {
     "name": "stdout",
     "output_type": "stream",
     "text": [
      "5\n"
     ]
    }
   ],
   "source": [
    "n=int(input())\n",
    "generate_random_num(n)"
   ]
  },
  {
   "cell_type": "code",
   "execution_count": 38,
   "id": "cbf584f6",
   "metadata": {},
   "outputs": [],
   "source": [
    "# From a list of numbers\n",
    "def generate_random_num2(l1):\n",
    "    return random.choice(l1)"
   ]
  },
  {
   "cell_type": "code",
   "execution_count": 46,
   "id": "3d99ed50",
   "metadata": {},
   "outputs": [
    {
     "data": {
      "text/plain": [
       "9"
      ]
     },
     "execution_count": 46,
     "metadata": {},
     "output_type": "execute_result"
    }
   ],
   "source": [
    "\n",
    "l=[1,2,3,4,5,6,7,8,9]\n",
    "generate_random_num2(l)"
   ]
  },
  {
   "cell_type": "code",
   "execution_count": null,
   "id": "393cde57",
   "metadata": {},
   "outputs": [],
   "source": []
  }
 ],
 "metadata": {
  "kernelspec": {
   "display_name": "Python 3",
   "language": "python",
   "name": "python3"
  },
  "language_info": {
   "codemirror_mode": {
    "name": "ipython",
    "version": 3
   },
   "file_extension": ".py",
   "mimetype": "text/x-python",
   "name": "python",
   "nbconvert_exporter": "python",
   "pygments_lexer": "ipython3",
   "version": "3.8.8"
  }
 },
 "nbformat": 4,
 "nbformat_minor": 5
}
